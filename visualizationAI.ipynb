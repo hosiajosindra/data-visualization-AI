{
 "cells": [
  {
   "cell_type": "code",
   "execution_count": 1,
   "metadata": {},
   "outputs": [
    {
     "name": "stdout",
     "output_type": "stream",
     "text": [
      "Collecting openai\n",
      "  Downloading openai-0.25.0.tar.gz (44 kB)\n",
      "\u001b[K     |████████████████████████████████| 44 kB 1.1 MB/s eta 0:00:01\n",
      "\u001b[?25h  Installing build dependencies ... \u001b[?25ldone\n",
      "\u001b[?25h  Getting requirements to build wheel ... \u001b[?25ldone\n",
      "\u001b[?25h    Preparing wheel metadata ... \u001b[?25ldone\n",
      "\u001b[?25hCollecting pandas-stubs>=1.1.0.11\n",
      "  Downloading pandas_stubs-1.5.2.221213-py3-none-any.whl (147 kB)\n",
      "\u001b[K     |████████████████████████████████| 147 kB 2.2 MB/s eta 0:00:01\n",
      "\u001b[?25hRequirement already satisfied: requests>=2.20 in ./opt/anaconda3/lib/python3.8/site-packages (from openai) (2.24.0)\n",
      "Collecting openpyxl>=3.0.7\n",
      "  Downloading openpyxl-3.0.10-py2.py3-none-any.whl (242 kB)\n",
      "\u001b[K     |████████████████████████████████| 242 kB 7.5 MB/s eta 0:00:01\n",
      "\u001b[?25hRequirement already satisfied: numpy in ./opt/anaconda3/lib/python3.8/site-packages (from openai) (1.22.3)\n",
      "Collecting pandas>=1.2.3\n",
      "  Downloading pandas-1.5.2-cp38-cp38-macosx_10_9_x86_64.whl (11.9 MB)\n",
      "\u001b[K     |████████████████████████████████| 11.9 MB 16.1 MB/s eta 0:00:01\n",
      "\u001b[?25hRequirement already satisfied: tqdm in ./opt/anaconda3/lib/python3.8/site-packages (from openai) (4.47.0)\n",
      "Requirement already satisfied: typing-extensions in ./opt/anaconda3/lib/python3.8/site-packages (from openai) (4.3.0)\n",
      "Collecting types-pytz>=2022.1.1\n",
      "  Downloading types_pytz-2022.7.0.0-py3-none-any.whl (4.7 kB)\n",
      "Requirement already satisfied: idna<3,>=2.5 in ./opt/anaconda3/lib/python3.8/site-packages (from requests>=2.20->openai) (2.10)\n",
      "Requirement already satisfied: urllib3!=1.25.0,!=1.25.1,<1.26,>=1.21.1 in ./opt/anaconda3/lib/python3.8/site-packages (from requests>=2.20->openai) (1.25.9)\n",
      "Requirement already satisfied: chardet<4,>=3.0.2 in ./opt/anaconda3/lib/python3.8/site-packages (from requests>=2.20->openai) (3.0.4)\n",
      "Requirement already satisfied: certifi>=2017.4.17 in ./opt/anaconda3/lib/python3.8/site-packages (from requests>=2.20->openai) (2020.6.20)\n",
      "Requirement already satisfied: et-xmlfile in ./opt/anaconda3/lib/python3.8/site-packages (from openpyxl>=3.0.7->openai) (1.0.1)\n",
      "Requirement already satisfied: python-dateutil>=2.8.1 in ./opt/anaconda3/lib/python3.8/site-packages (from pandas>=1.2.3->openai) (2.8.1)\n",
      "Requirement already satisfied: pytz>=2020.1 in ./opt/anaconda3/lib/python3.8/site-packages (from pandas>=1.2.3->openai) (2020.1)\n",
      "Requirement already satisfied: six>=1.5 in ./opt/anaconda3/lib/python3.8/site-packages (from python-dateutil>=2.8.1->pandas>=1.2.3->openai) (1.15.0)\n",
      "Building wheels for collected packages: openai\n",
      "  Building wheel for openai (PEP 517) ... \u001b[?25ldone\n",
      "\u001b[?25h  Created wheel for openai: filename=openai-0.25.0-py3-none-any.whl size=55859 sha256=084aac19838c31ba5ab70d2626f439990dffa5d7127646e42c1b5c377aa20358\n",
      "  Stored in directory: /Users/hosiajosindra/Library/Caches/pip/wheels/4b/92/33/6f57c7aae0b16875267999a50570e81f15eecec577ebe05a2e\n",
      "Successfully built openai\n",
      "Installing collected packages: types-pytz, pandas-stubs, openpyxl, pandas, openai\n",
      "  Attempting uninstall: openpyxl\n",
      "    Found existing installation: openpyxl 3.0.4\n",
      "    Uninstalling openpyxl-3.0.4:\n",
      "      Successfully uninstalled openpyxl-3.0.4\n",
      "  Attempting uninstall: pandas\n",
      "    Found existing installation: pandas 1.0.5\n",
      "    Uninstalling pandas-1.0.5:\n",
      "      Successfully uninstalled pandas-1.0.5\n",
      "Successfully installed openai-0.25.0 openpyxl-3.0.10 pandas-1.5.2 pandas-stubs-1.5.2.221213 types-pytz-2022.7.0.0\n",
      "Note: you may need to restart the kernel to use updated packages.\n"
     ]
    }
   ],
   "source": [
    "pip install openai"
   ]
  },
  {
   "cell_type": "markdown",
   "metadata": {},
   "source": [
    "### visualization AI"
   ]
  },
  {
   "cell_type": "code",
   "execution_count": 1,
   "metadata": {},
   "outputs": [],
   "source": [
    "def vizAI(text, thread='datasans', show_script=True, exc=True):\n",
    "    import openai\n",
    "    global api_key\n",
    "    try:\n",
    "        openai.api_key = api_key\n",
    "    except:\n",
    "        api_key = input('Masukkan API-KEY Open AI anda: ')\n",
    "        openai.api_key = api_key\n",
    "\n",
    "    global context\n",
    "    if thread == 'new':\n",
    "        context=''\n",
    "        response = openai.Completion.create(\n",
    "            engine=\"text-davinci-003\",\n",
    "            prompt=text+\". \"+\", write in python script\",\n",
    "            max_tokens=1024\n",
    "        )\n",
    "        output = response['choices'][0]['text']\n",
    "        context = output\n",
    "    else:\n",
    "        try:\n",
    "            response = openai.Completion.create(\n",
    "                engine=\"text-davinci-003\",\n",
    "                prompt=text+' dan perbaiki script: '+context.replace('\\n',' ')+\". \"+\", write all in python script.\",\n",
    "                max_tokens=1024\n",
    "            )\n",
    "            output = response['choices'][0]['text']\n",
    "            context = output\n",
    "        except:\n",
    "            output = \"\"\"print(\"Parameter thread belum diatur, jalankan chatGPT([text_anda], thread='new') ketika menjalankan fungsi untuk pertama kali atau ketika ingin mereset thread.\")\"\"\"\n",
    "\n",
    "    if show_script==True:\n",
    "        if exc==True:\n",
    "            return print('Script:', output), exec(output)\n",
    "        else:\n",
    "            return print('Script:', output)\n",
    "    else:\n",
    "        if exc==True:\n",
    "            return exec(output)\n",
    "        else:\n",
    "            return print('Script tidak dieksekusi maupun dishow, setting parameter show_script atau exc untuk menampilkan script atau mengeksekusi.')"
   ]
  },
  {
   "cell_type": "markdown",
   "metadata": {},
   "source": [
    "### dummy data"
   ]
  },
  {
   "cell_type": "code",
   "execution_count": 4,
   "metadata": {},
   "outputs": [
    {
     "name": "stdout",
     "output_type": "stream",
     "text": [
      "Script: \n",
      "\n",
      "import matplotlib.pyplot as plt \n",
      "\n",
      "# data yang akan diplot \n",
      "x = [1, 2, 3, 4, 5] \n",
      "y = [10, 24, 36, 40, 5] \n",
      "\n",
      "# membuat bar chart\n",
      "plt.bar(x, y, align = 'center') \n",
      "plt.title('Bar Chart')\n",
      "plt.xlabel('x') \n",
      "plt.ylabel('y') \n",
      "\n",
      "# menampilkan diagram \n",
      "plt.show()\n"
     ]
    },
    {
     "data": {
      "image/png": "[encoded data removed]",
      "text/plain": [
       "<Figure size 432x288 with 1 Axes>"
      ]
     },
     "metadata": {
      "needs_background": "light"
     },
     "output_type": "display_data"
    },
    {
     "data": {
      "text/plain": [
       "(None, None)"
      ]
     },
     "execution_count": 4,
     "metadata": {},
     "output_type": "execute_result"
    }
   ],
   "source": [
    "vizAI('buat barchart dengan data dummy', thread='new')"
   ]
  },
  {
   "cell_type": "code",
   "execution_count": 6,
   "metadata": {},
   "outputs": [
    {
     "data": {
      "image/png": "[encoded data removed]",
      "text/plain": [
       "<Figure size 432x288 with 1 Axes>"
      ]
     },
     "metadata": {
      "needs_background": "light"
     },
     "output_type": "display_data"
    }
   ],
   "source": [
    "vizAI('ubah orientasi barchart menjadi horizontal', show_script=False)"
   ]
  },
  {
   "cell_type": "markdown",
   "metadata": {},
   "source": [
    "### real data"
   ]
  },
  {
   "cell_type": "code",
   "execution_count": 8,
   "metadata": {},
   "outputs": [
    {
     "data": {
      "text/html": [
       "<div>\n",
       "<style scoped>\n",
       "    .dataframe tbody tr th:only-of-type {\n",
       "        vertical-align: middle;\n",
       "    }\n",
       "\n",
       "    .dataframe tbody tr th {\n",
       "        vertical-align: top;\n",
       "    }\n",
       "\n",
       "    .dataframe thead th {\n",
       "        text-align: right;\n",
       "    }\n",
       "</style>\n",
       "<table border=\"1\" class=\"dataframe\">\n",
       "  <thead>\n",
       "    <tr style=\"text-align: right;\">\n",
       "      <th></th>\n",
       "      <th>age</th>\n",
       "      <th>sex</th>\n",
       "      <th>cp</th>\n",
       "      <th>trtbps</th>\n",
       "      <th>chol</th>\n",
       "      <th>fbs</th>\n",
       "      <th>restecg</th>\n",
       "      <th>thalachh</th>\n",
       "      <th>exng</th>\n",
       "      <th>oldpeak</th>\n",
       "      <th>slp</th>\n",
       "      <th>caa</th>\n",
       "      <th>thall</th>\n",
       "      <th>output</th>\n",
       "    </tr>\n",
       "  </thead>\n",
       "  <tbody>\n",
       "    <tr>\n",
       "      <th>0</th>\n",
       "      <td>63</td>\n",
       "      <td>1</td>\n",
       "      <td>3</td>\n",
       "      <td>145</td>\n",
       "      <td>233</td>\n",
       "      <td>1</td>\n",
       "      <td>0</td>\n",
       "      <td>150</td>\n",
       "      <td>0</td>\n",
       "      <td>2.3</td>\n",
       "      <td>0</td>\n",
       "      <td>0</td>\n",
       "      <td>1</td>\n",
       "      <td>1</td>\n",
       "    </tr>\n",
       "    <tr>\n",
       "      <th>1</th>\n",
       "      <td>37</td>\n",
       "      <td>1</td>\n",
       "      <td>2</td>\n",
       "      <td>130</td>\n",
       "      <td>250</td>\n",
       "      <td>0</td>\n",
       "      <td>1</td>\n",
       "      <td>187</td>\n",
       "      <td>0</td>\n",
       "      <td>3.5</td>\n",
       "      <td>0</td>\n",
       "      <td>0</td>\n",
       "      <td>2</td>\n",
       "      <td>1</td>\n",
       "    </tr>\n",
       "    <tr>\n",
       "      <th>2</th>\n",
       "      <td>41</td>\n",
       "      <td>0</td>\n",
       "      <td>1</td>\n",
       "      <td>130</td>\n",
       "      <td>204</td>\n",
       "      <td>0</td>\n",
       "      <td>0</td>\n",
       "      <td>172</td>\n",
       "      <td>0</td>\n",
       "      <td>1.4</td>\n",
       "      <td>2</td>\n",
       "      <td>0</td>\n",
       "      <td>2</td>\n",
       "      <td>1</td>\n",
       "    </tr>\n",
       "    <tr>\n",
       "      <th>3</th>\n",
       "      <td>56</td>\n",
       "      <td>1</td>\n",
       "      <td>1</td>\n",
       "      <td>120</td>\n",
       "      <td>236</td>\n",
       "      <td>0</td>\n",
       "      <td>1</td>\n",
       "      <td>178</td>\n",
       "      <td>0</td>\n",
       "      <td>0.8</td>\n",
       "      <td>2</td>\n",
       "      <td>0</td>\n",
       "      <td>2</td>\n",
       "      <td>1</td>\n",
       "    </tr>\n",
       "    <tr>\n",
       "      <th>4</th>\n",
       "      <td>57</td>\n",
       "      <td>0</td>\n",
       "      <td>0</td>\n",
       "      <td>120</td>\n",
       "      <td>354</td>\n",
       "      <td>0</td>\n",
       "      <td>1</td>\n",
       "      <td>163</td>\n",
       "      <td>1</td>\n",
       "      <td>0.6</td>\n",
       "      <td>2</td>\n",
       "      <td>0</td>\n",
       "      <td>2</td>\n",
       "      <td>1</td>\n",
       "    </tr>\n",
       "  </tbody>\n",
       "</table>\n",
       "</div>"
      ],
      "text/plain": [
       "   age  sex  cp  trtbps  chol  fbs  restecg  thalachh  exng  oldpeak  slp  \\\n",
       "0   63    1   3     145   233    1        0       150     0      2.3    0   \n",
       "1   37    1   2     130   250    0        1       187     0      3.5    0   \n",
       "2   41    0   1     130   204    0        0       172     0      1.4    2   \n",
       "3   56    1   1     120   236    0        1       178     0      0.8    2   \n",
       "4   57    0   0     120   354    0        1       163     1      0.6    2   \n",
       "\n",
       "   caa  thall  output  \n",
       "0    0      1       1  \n",
       "1    0      2       1  \n",
       "2    0      2       1  \n",
       "3    0      2       1  \n",
       "4    0      2       1  "
      ]
     },
     "execution_count": 8,
     "metadata": {},
     "output_type": "execute_result"
    }
   ],
   "source": [
    "import pandas as pd\n",
    "heart = pd.read_csv('heart.csv')\n",
    "heart.head()"
   ]
  },
  {
   "cell_type": "code",
   "execution_count": 9,
   "metadata": {},
   "outputs": [
    {
     "name": "stdout",
     "output_type": "stream",
     "text": [
      "Script: \n",
      "\n",
      "import matplotlib.pyplot as plt\n",
      "import pandas as pd\n",
      "\n",
      "data_heart = pd.read_csv('heart.csv')\n",
      "\n",
      "age = data_heart.age\n",
      "plt.hist(age)\n",
      "plt.xlabel('age')\n",
      "plt.ylabel('Frequency')\n",
      "plt.show()\n"
     ]
    },
    {
     "data": {
      "image/png": "[encoded data removed]",
      "text/plain": [
       "<Figure size 432x288 with 1 Axes>"
      ]
     },
     "metadata": {
      "needs_background": "light"
     },
     "output_type": "display_data"
    },
    {
     "data": {
      "text/plain": [
       "(None, None)"
      ]
     },
     "execution_count": 9,
     "metadata": {},
     "output_type": "execute_result"
    }
   ],
   "source": [
    "vizAI('buat histogram dengan data heart.csv pada kolom age', thread='new')"
   ]
  },
  {
   "cell_type": "code",
   "execution_count": 10,
   "metadata": {},
   "outputs": [
    {
     "data": {
      "image/png": "[encoded data removed]",
      "text/plain": [
       "<Figure size 432x288 with 1 Axes>"
      ]
     },
     "metadata": {
      "needs_background": "light"
     },
     "output_type": "display_data"
    }
   ],
   "source": [
    "vizAI('beri judul \"Frekuensi Umur\"', show_script=False)"
   ]
  },
  {
   "cell_type": "code",
   "execution_count": 12,
   "metadata": {},
   "outputs": [
    {
     "name": "stdout",
     "output_type": "stream",
     "text": [
      "Script: \n",
      "\n",
      "import matplotlib.pyplot as plt \n",
      "import pandas as pd\n",
      "\n",
      "#memanggil data \n",
      "heart = pd.read_csv(\"heart.csv\")\n",
      "\n",
      "#mencari jumlah pasien per jenis kelamin\n",
      "male = heart[heart.sex == 0].sex.count()\n",
      "female = heart[heart.sex == 1].sex.count()\n",
      "\n",
      "#membuat data menjadi list\n",
      "data = [male, female]\n",
      "\n",
      "#membuat label untuk data\n",
      "sex = ['Male', 'Female']\n",
      "\n",
      "#membuat barchart\n",
      "plt.bar(sex, data, color = ['blue', 'red'])\n",
      "\n",
      "#memberi judul \n",
      "plt.title('Number of patients by gender')\n",
      "\n",
      "#memberi label pada sumbu y \n",
      "plt.ylabel('Number of Patients')\n",
      "\n",
      "#memberi label pada sumbu x\n",
      "plt.xlabel('Gender')\n",
      "\n",
      "#menampilkan grafik\n",
      "plt.show()\n"
     ]
    },
    {
     "data": {
      "image/png": "[encoded data removed]",
      "text/plain": [
       "<Figure size 432x288 with 1 Axes>"
      ]
     },
     "metadata": {
      "needs_background": "light"
     },
     "output_type": "display_data"
    },
    {
     "data": {
      "text/plain": [
       "(None, None)"
      ]
     },
     "execution_count": 12,
     "metadata": {},
     "output_type": "execute_result"
    }
   ],
   "source": [
    "vizAI('buat barchart dengan data heart.csv pada kolom sex', thread='new')"
   ]
  },
  {
   "cell_type": "code",
   "execution_count": 13,
   "metadata": {},
   "outputs": [
    {
     "name": "stdout",
     "output_type": "stream",
     "text": [
      "Script: \n",
      "\n",
      "import matplotlib.pyplot as plt \n",
      "import pandas as pd\n",
      "\n",
      "#memanggil data\n",
      "heart = pd.read_csv(\"heart.csv\")\n",
      "\n",
      "#mencari jumlah pasien per jenis kelamin\n",
      "male = heart[heart.sex == 0].sex.count()\n",
      "female = heart[heart.sex == 1].sex.count()\n",
      "\n",
      "#membuat data menjadi list\n",
      "data = [male, female]\n",
      "\n",
      "#membuat label untuk data\n",
      "sex = ['Male', 'Female']\n",
      "\n",
      "#membuat barchart\n",
      "plt.bar(sex, data, color = ['orange', 'pink'])\n",
      "\n",
      "#memberi judul\n",
      "plt.title('Number of patients by gender') \n",
      "\n",
      "#memberi label pada sumbu y\n",
      "plt.ylabel('Number of Patients')\n",
      "\n",
      "#memberi label pada sumbu x\n",
      "plt.xlabel('Gender')\n",
      "\n",
      "#menampilkan grafik\n",
      "plt.show()\n"
     ]
    },
    {
     "data": {
      "image/png": "[encoded data removed]",
      "text/plain": [
       "<Figure size 432x288 with 1 Axes>"
      ]
     },
     "metadata": {
      "needs_background": "light"
     },
     "output_type": "display_data"
    },
    {
     "data": {
      "text/plain": [
       "(None, None)"
      ]
     },
     "execution_count": 13,
     "metadata": {},
     "output_type": "execute_result"
    }
   ],
   "source": [
    "vizAI('ubah pallete warna')"
   ]
  },
  {
   "cell_type": "code",
   "execution_count": 15,
   "metadata": {},
   "outputs": [
    {
     "data": {
      "image/png": "[encoded data removed]",
      "text/plain": [
       "<Figure size 432x288 with 1 Axes>"
      ]
     },
     "metadata": {
      "needs_background": "light"
     },
     "output_type": "display_data"
    }
   ],
   "source": [
    "vizAI('rotasi xticks 180 derajat', show_script=False)"
   ]
  },
  {
   "cell_type": "code",
   "execution_count": 28,
   "metadata": {},
   "outputs": [
    {
     "name": "stdout",
     "output_type": "stream",
     "text": [
      "Script: \n",
      "\n",
      "import matplotlib.pyplot as plt\n",
      "import pandas as pd\n",
      "\n",
      "# membaca data\n",
      "dataHeart = pd.read_csv('heart.csv')\n",
      "\n",
      "# filtrasi data\n",
      "xAge = dataHeart['age']\n",
      "yChol = dataHeart['chol']\n",
      "\n",
      "# membuat scatterplot\n",
      "plt.scatter(xAge, yChol, marker=\"o\", color='purple')\n",
      "\n",
      "# menambahkan judul\n",
      "plt.title('Visualisasi Age dan Cholestrol')\n",
      "\n",
      "# menambahkan label pada sumbu x dan y\n",
      "plt.xlabel('Age')\n",
      "plt.ylabel('Cholestrol')\n",
      "\n",
      "# menampilkan plot\n",
      "plt.show()\n"
     ]
    },
    {
     "data": {
      "image/png": "[encoded data removed]",
      "text/plain": [
       "<Figure size 432x288 with 1 Axes>"
      ]
     },
     "metadata": {
      "needs_background": "light"
     },
     "output_type": "display_data"
    },
    {
     "data": {
      "text/plain": [
       "(None, None)"
      ]
     },
     "execution_count": 28,
     "metadata": {},
     "output_type": "execute_result"
    }
   ],
   "source": [
    "vizAI('buat scatterplot dengan data heart.csv kolom age dan chol dengan judul \"Visualisasi Age dan Cholestrol\"', show_script=True, thread='new')"
   ]
  },
  {
   "cell_type": "code",
   "execution_count": 29,
   "metadata": {},
   "outputs": [
    {
     "data": {
      "image/png": "[encoded data removed]",
      "text/plain": [
       "<Figure size 432x288 with 1 Axes>"
      ]
     },
     "metadata": {
      "needs_background": "light"
     },
     "output_type": "display_data"
    }
   ],
   "source": [
    "vizAI('ubah x = chol dan y = age ', show_script=False)"
   ]
  },
  {
   "cell_type": "code",
   "execution_count": 30,
   "metadata": {},
   "outputs": [
    {
     "name": "stdout",
     "output_type": "stream",
     "text": [
      "Script: \n",
      "\n",
      "import matplotlib.pyplot as plt\n",
      "import pandas as pd\n",
      "\n",
      "# membaca data\n",
      "dataHeart = pd.read_csv('heart.csv')\n",
      "\n",
      "# filtrasi data\n",
      "xChol = dataHeart['chol']\n",
      "yAge = dataHeart['age']\n",
      "\n",
      "# membuat scatterplot\n",
      "plt.scatter(xChol, yAge, marker=\"o\", color='purple', alpha=0.5)\n",
      "\n",
      "# menambahkan judul\n",
      "plt.title('Visualisasi Cholestrol dan Age')\n",
      "\n",
      "# menambahkan label pada sumbu x dan y\n",
      "plt.xlabel('Cholestrol')\n",
      "plt.ylabel('Age')\n",
      "\n",
      "# menampilkan plot\n",
      "plt.show()\n"
     ]
    },
    {
     "data": {
      "image/png": "[encoded data removed]",
      "text/plain": [
       "<Figure size 432x288 with 1 Axes>"
      ]
     },
     "metadata": {
      "needs_background": "light"
     },
     "output_type": "display_data"
    },
    {
     "data": {
      "text/plain": [
       "(None, None)"
      ]
     },
     "execution_count": 30,
     "metadata": {},
     "output_type": "execute_result"
    }
   ],
   "source": [
    "vizAI('alpha = 0.5')"
   ]
  }
 ],
 "metadata": {
  "kernelspec": {
   "display_name": "Python 3",
   "language": "python",
   "name": "python3"
  },
  "language_info": {
   "codemirror_mode": {
    "name": "ipython",
    "version": 3
   },
   "file_extension": ".py",
   "mimetype": "text/x-python",
   "name": "python",
   "nbconvert_exporter": "python",
   "pygments_lexer": "ipython3",
   "version": "3.8.3"
  }
 },
 "nbformat": 4,
 "nbformat_minor": 4
}
